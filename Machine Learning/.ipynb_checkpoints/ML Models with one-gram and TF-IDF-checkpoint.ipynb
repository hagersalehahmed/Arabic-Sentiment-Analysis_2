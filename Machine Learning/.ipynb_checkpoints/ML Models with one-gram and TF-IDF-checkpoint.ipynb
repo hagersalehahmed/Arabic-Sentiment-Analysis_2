{
 "cells": [
  {
   "cell_type": "markdown",
   "id": "cea9ffac",
   "metadata": {
    "id": "cea9ffac"
   },
   "source": [
    "### Importing libraries\n"
   ]
  },
  {
   "cell_type": "code",
   "execution_count": 1,
   "id": "d376d201",
   "metadata": {
    "executionInfo": {
     "elapsed": 309,
     "status": "ok",
     "timestamp": 1660144129692,
     "user": {
      "displayName": "hager saleh",
      "userId": "04961961339784377923"
     },
     "user_tz": -120
    },
    "id": "d376d201"
   },
   "outputs": [
    {
     "ename": "KeyboardInterrupt",
     "evalue": "",
     "output_type": "error",
     "traceback": [
      "\u001b[1;31m---------------------------------------------------------------------------\u001b[0m",
      "\u001b[1;31mFileNotFoundError\u001b[0m                         Traceback (most recent call last)",
      "\u001b[1;32m~\\anaconda3\\envs\\hager\\lib\\importlib\\_bootstrap_external.py\u001b[0m in \u001b[0;36m_path_is_mode_type\u001b[1;34m(path, mode)\u001b[0m\n",
      "\u001b[1;32m~\\anaconda3\\envs\\hager\\lib\\importlib\\_bootstrap_external.py\u001b[0m in \u001b[0;36m_path_stat\u001b[1;34m(path)\u001b[0m\n",
      "\u001b[1;31mFileNotFoundError\u001b[0m: [WinError 2] The system cannot find the file specified: 'C:\\\\Users\\\\hager\\\\anaconda3\\\\envs\\\\hager\\\\lib\\\\site-packages\\\\matplotlib_inline\\\\__init__.pyd'",
      "\nDuring handling of the above exception, another exception occurred:\n",
      "\u001b[1;31mKeyboardInterrupt\u001b[0m                         Traceback (most recent call last)",
      "\u001b[1;32m~\\AppData\\Local\\Temp/ipykernel_4840/834169863.py\u001b[0m in \u001b[0;36m<cell line: 4>\u001b[1;34m()\u001b[0m\n\u001b[0;32m      2\u001b[0m \u001b[1;32mimport\u001b[0m \u001b[0mpandas\u001b[0m \u001b[1;32mas\u001b[0m \u001b[0mpd\u001b[0m\u001b[1;33m\u001b[0m\u001b[1;33m\u001b[0m\u001b[0m\n\u001b[0;32m      3\u001b[0m \u001b[1;32mimport\u001b[0m \u001b[0mnumpy\u001b[0m \u001b[1;32mas\u001b[0m \u001b[0mnp\u001b[0m\u001b[1;33m\u001b[0m\u001b[1;33m\u001b[0m\u001b[0m\n\u001b[1;32m----> 4\u001b[1;33m \u001b[1;32mimport\u001b[0m \u001b[0mseaborn\u001b[0m \u001b[1;32mas\u001b[0m \u001b[0msns\u001b[0m\u001b[1;33m\u001b[0m\u001b[1;33m\u001b[0m\u001b[0m\n\u001b[0m\u001b[0;32m      5\u001b[0m \u001b[0mget_ipython\u001b[0m\u001b[1;33m(\u001b[0m\u001b[1;33m)\u001b[0m\u001b[1;33m.\u001b[0m\u001b[0mrun_line_magic\u001b[0m\u001b[1;33m(\u001b[0m\u001b[1;34m'matplotlib'\u001b[0m\u001b[1;33m,\u001b[0m \u001b[1;34m'inline'\u001b[0m\u001b[1;33m)\u001b[0m\u001b[1;33m\u001b[0m\u001b[1;33m\u001b[0m\u001b[0m\n\u001b[0;32m      6\u001b[0m \u001b[1;32mimport\u001b[0m \u001b[0mmatplotlib\u001b[0m\u001b[1;33m.\u001b[0m\u001b[0mpyplot\u001b[0m \u001b[1;32mas\u001b[0m \u001b[0mplt\u001b[0m\u001b[1;33m\u001b[0m\u001b[1;33m\u001b[0m\u001b[0m\n",
      "\u001b[1;32m~\\anaconda3\\envs\\hager\\lib\\site-packages\\seaborn\\__init__.py\u001b[0m in \u001b[0;36m<module>\u001b[1;34m\u001b[0m\n\u001b[0;32m      1\u001b[0m \u001b[1;31m# Import seaborn objects\u001b[0m\u001b[1;33m\u001b[0m\u001b[1;33m\u001b[0m\u001b[0m\n\u001b[1;32m----> 2\u001b[1;33m \u001b[1;32mfrom\u001b[0m \u001b[1;33m.\u001b[0m\u001b[0mrcmod\u001b[0m \u001b[1;32mimport\u001b[0m \u001b[1;33m*\u001b[0m  \u001b[1;31m# noqa: F401,F403\u001b[0m\u001b[1;33m\u001b[0m\u001b[1;33m\u001b[0m\u001b[0m\n\u001b[0m\u001b[0;32m      3\u001b[0m \u001b[1;32mfrom\u001b[0m \u001b[1;33m.\u001b[0m\u001b[0mutils\u001b[0m \u001b[1;32mimport\u001b[0m \u001b[1;33m*\u001b[0m  \u001b[1;31m# noqa: F401,F403\u001b[0m\u001b[1;33m\u001b[0m\u001b[1;33m\u001b[0m\u001b[0m\n\u001b[0;32m      4\u001b[0m \u001b[1;32mfrom\u001b[0m \u001b[1;33m.\u001b[0m\u001b[0mpalettes\u001b[0m \u001b[1;32mimport\u001b[0m \u001b[1;33m*\u001b[0m  \u001b[1;31m# noqa: F401,F403\u001b[0m\u001b[1;33m\u001b[0m\u001b[1;33m\u001b[0m\u001b[0m\n\u001b[0;32m      5\u001b[0m \u001b[1;32mfrom\u001b[0m \u001b[1;33m.\u001b[0m\u001b[0mrelational\u001b[0m \u001b[1;32mimport\u001b[0m \u001b[1;33m*\u001b[0m  \u001b[1;31m# noqa: F401,F403\u001b[0m\u001b[1;33m\u001b[0m\u001b[1;33m\u001b[0m\u001b[0m\n",
      "\u001b[1;32m~\\anaconda3\\envs\\hager\\lib\\site-packages\\seaborn\\rcmod.py\u001b[0m in \u001b[0;36m<module>\u001b[1;34m\u001b[0m\n\u001b[0;32m      5\u001b[0m \u001b[1;32mimport\u001b[0m \u001b[0mmatplotlib\u001b[0m \u001b[1;32mas\u001b[0m \u001b[0mmpl\u001b[0m\u001b[1;33m\u001b[0m\u001b[1;33m\u001b[0m\u001b[0m\n\u001b[0;32m      6\u001b[0m \u001b[1;32mfrom\u001b[0m \u001b[0mcycler\u001b[0m \u001b[1;32mimport\u001b[0m \u001b[0mcycler\u001b[0m\u001b[1;33m\u001b[0m\u001b[1;33m\u001b[0m\u001b[0m\n\u001b[1;32m----> 7\u001b[1;33m \u001b[1;32mfrom\u001b[0m \u001b[1;33m.\u001b[0m \u001b[1;32mimport\u001b[0m \u001b[0mpalettes\u001b[0m\u001b[1;33m\u001b[0m\u001b[1;33m\u001b[0m\u001b[0m\n\u001b[0m\u001b[0;32m      8\u001b[0m \u001b[1;33m\u001b[0m\u001b[0m\n\u001b[0;32m      9\u001b[0m \u001b[1;33m\u001b[0m\u001b[0m\n",
      "\u001b[1;32m~\\anaconda3\\envs\\hager\\lib\\site-packages\\seaborn\\palettes.py\u001b[0m in \u001b[0;36m<module>\u001b[1;34m\u001b[0m\n\u001b[0;32m      7\u001b[0m \u001b[1;32mfrom\u001b[0m \u001b[1;33m.\u001b[0m\u001b[0mexternal\u001b[0m \u001b[1;32mimport\u001b[0m \u001b[0mhusl\u001b[0m\u001b[1;33m\u001b[0m\u001b[1;33m\u001b[0m\u001b[0m\n\u001b[0;32m      8\u001b[0m \u001b[1;33m\u001b[0m\u001b[0m\n\u001b[1;32m----> 9\u001b[1;33m \u001b[1;32mfrom\u001b[0m \u001b[1;33m.\u001b[0m\u001b[0mutils\u001b[0m \u001b[1;32mimport\u001b[0m \u001b[0mdesaturate\u001b[0m\u001b[1;33m,\u001b[0m \u001b[0mget_color_cycle\u001b[0m\u001b[1;33m\u001b[0m\u001b[1;33m\u001b[0m\u001b[0m\n\u001b[0m\u001b[0;32m     10\u001b[0m \u001b[1;32mfrom\u001b[0m \u001b[1;33m.\u001b[0m\u001b[0mcolors\u001b[0m \u001b[1;32mimport\u001b[0m \u001b[0mxkcd_rgb\u001b[0m\u001b[1;33m,\u001b[0m \u001b[0mcrayons\u001b[0m\u001b[1;33m\u001b[0m\u001b[1;33m\u001b[0m\u001b[0m\n\u001b[0;32m     11\u001b[0m \u001b[1;33m\u001b[0m\u001b[0m\n",
      "\u001b[1;32m~\\anaconda3\\envs\\hager\\lib\\site-packages\\seaborn\\utils.py\u001b[0m in \u001b[0;36m<module>\u001b[1;34m\u001b[0m\n\u001b[0;32m     12\u001b[0m \u001b[1;32mimport\u001b[0m \u001b[0mmatplotlib\u001b[0m \u001b[1;32mas\u001b[0m \u001b[0mmpl\u001b[0m\u001b[1;33m\u001b[0m\u001b[1;33m\u001b[0m\u001b[0m\n\u001b[0;32m     13\u001b[0m \u001b[1;32mimport\u001b[0m \u001b[0mmatplotlib\u001b[0m\u001b[1;33m.\u001b[0m\u001b[0mcolors\u001b[0m \u001b[1;32mas\u001b[0m \u001b[0mmplcol\u001b[0m\u001b[1;33m\u001b[0m\u001b[1;33m\u001b[0m\u001b[0m\n\u001b[1;32m---> 14\u001b[1;33m \u001b[1;32mimport\u001b[0m \u001b[0mmatplotlib\u001b[0m\u001b[1;33m.\u001b[0m\u001b[0mpyplot\u001b[0m \u001b[1;32mas\u001b[0m \u001b[0mplt\u001b[0m\u001b[1;33m\u001b[0m\u001b[1;33m\u001b[0m\u001b[0m\n\u001b[0m\u001b[0;32m     15\u001b[0m \u001b[1;32mfrom\u001b[0m \u001b[0mmatplotlib\u001b[0m\u001b[1;33m.\u001b[0m\u001b[0mcbook\u001b[0m \u001b[1;32mimport\u001b[0m \u001b[0mnormalize_kwargs\u001b[0m\u001b[1;33m\u001b[0m\u001b[1;33m\u001b[0m\u001b[0m\n\u001b[0;32m     16\u001b[0m \u001b[1;33m\u001b[0m\u001b[0m\n",
      "\u001b[1;32m~\\anaconda3\\envs\\hager\\lib\\site-packages\\matplotlib\\pyplot.py\u001b[0m in \u001b[0;36m<module>\u001b[1;34m\u001b[0m\n\u001b[0;32m   2228\u001b[0m     \u001b[0mdict\u001b[0m\u001b[1;33m.\u001b[0m\u001b[0m__setitem__\u001b[0m\u001b[1;33m(\u001b[0m\u001b[0mrcParams\u001b[0m\u001b[1;33m,\u001b[0m \u001b[1;34m\"backend\"\u001b[0m\u001b[1;33m,\u001b[0m \u001b[0mrcsetup\u001b[0m\u001b[1;33m.\u001b[0m\u001b[0m_auto_backend_sentinel\u001b[0m\u001b[1;33m)\u001b[0m\u001b[1;33m\u001b[0m\u001b[1;33m\u001b[0m\u001b[0m\n\u001b[0;32m   2229\u001b[0m \u001b[1;31m# Set up the backend.\u001b[0m\u001b[1;33m\u001b[0m\u001b[1;33m\u001b[0m\u001b[0m\n\u001b[1;32m-> 2230\u001b[1;33m \u001b[0mswitch_backend\u001b[0m\u001b[1;33m(\u001b[0m\u001b[0mrcParams\u001b[0m\u001b[1;33m[\u001b[0m\u001b[1;34m\"backend\"\u001b[0m\u001b[1;33m]\u001b[0m\u001b[1;33m)\u001b[0m\u001b[1;33m\u001b[0m\u001b[1;33m\u001b[0m\u001b[0m\n\u001b[0m\u001b[0;32m   2231\u001b[0m \u001b[1;33m\u001b[0m\u001b[0m\n\u001b[0;32m   2232\u001b[0m \u001b[1;31m# Just to be safe.  Interactive mode can be turned on without\u001b[0m\u001b[1;33m\u001b[0m\u001b[1;33m\u001b[0m\u001b[0m\n",
      "\u001b[1;32m~\\anaconda3\\envs\\hager\\lib\\site-packages\\matplotlib\\pyplot.py\u001b[0m in \u001b[0;36mswitch_backend\u001b[1;34m(newbackend)\u001b[0m\n\u001b[0;32m    265\u001b[0m     \u001b[0mbackend_name\u001b[0m \u001b[1;33m=\u001b[0m \u001b[0mcbook\u001b[0m\u001b[1;33m.\u001b[0m\u001b[0m_backend_module_name\u001b[0m\u001b[1;33m(\u001b[0m\u001b[0mnewbackend\u001b[0m\u001b[1;33m)\u001b[0m\u001b[1;33m\u001b[0m\u001b[1;33m\u001b[0m\u001b[0m\n\u001b[0;32m    266\u001b[0m \u001b[1;33m\u001b[0m\u001b[0m\n\u001b[1;32m--> 267\u001b[1;33m     \u001b[1;32mclass\u001b[0m \u001b[0mbackend_mod\u001b[0m\u001b[1;33m(\u001b[0m\u001b[0mmatplotlib\u001b[0m\u001b[1;33m.\u001b[0m\u001b[0mbackend_bases\u001b[0m\u001b[1;33m.\u001b[0m\u001b[0m_Backend\u001b[0m\u001b[1;33m)\u001b[0m\u001b[1;33m:\u001b[0m\u001b[1;33m\u001b[0m\u001b[1;33m\u001b[0m\u001b[0m\n\u001b[0m\u001b[0;32m    268\u001b[0m         \u001b[0mlocals\u001b[0m\u001b[1;33m(\u001b[0m\u001b[1;33m)\u001b[0m\u001b[1;33m.\u001b[0m\u001b[0mupdate\u001b[0m\u001b[1;33m(\u001b[0m\u001b[0mvars\u001b[0m\u001b[1;33m(\u001b[0m\u001b[0mimportlib\u001b[0m\u001b[1;33m.\u001b[0m\u001b[0mimport_module\u001b[0m\u001b[1;33m(\u001b[0m\u001b[0mbackend_name\u001b[0m\u001b[1;33m)\u001b[0m\u001b[1;33m)\u001b[0m\u001b[1;33m)\u001b[0m\u001b[1;33m\u001b[0m\u001b[1;33m\u001b[0m\u001b[0m\n\u001b[0;32m    269\u001b[0m \u001b[1;33m\u001b[0m\u001b[0m\n",
      "\u001b[1;32m~\\anaconda3\\envs\\hager\\lib\\site-packages\\matplotlib\\pyplot.py\u001b[0m in \u001b[0;36mbackend_mod\u001b[1;34m()\u001b[0m\n\u001b[0;32m    266\u001b[0m \u001b[1;33m\u001b[0m\u001b[0m\n\u001b[0;32m    267\u001b[0m     \u001b[1;32mclass\u001b[0m \u001b[0mbackend_mod\u001b[0m\u001b[1;33m(\u001b[0m\u001b[0mmatplotlib\u001b[0m\u001b[1;33m.\u001b[0m\u001b[0mbackend_bases\u001b[0m\u001b[1;33m.\u001b[0m\u001b[0m_Backend\u001b[0m\u001b[1;33m)\u001b[0m\u001b[1;33m:\u001b[0m\u001b[1;33m\u001b[0m\u001b[1;33m\u001b[0m\u001b[0m\n\u001b[1;32m--> 268\u001b[1;33m         \u001b[0mlocals\u001b[0m\u001b[1;33m(\u001b[0m\u001b[1;33m)\u001b[0m\u001b[1;33m.\u001b[0m\u001b[0mupdate\u001b[0m\u001b[1;33m(\u001b[0m\u001b[0mvars\u001b[0m\u001b[1;33m(\u001b[0m\u001b[0mimportlib\u001b[0m\u001b[1;33m.\u001b[0m\u001b[0mimport_module\u001b[0m\u001b[1;33m(\u001b[0m\u001b[0mbackend_name\u001b[0m\u001b[1;33m)\u001b[0m\u001b[1;33m)\u001b[0m\u001b[1;33m)\u001b[0m\u001b[1;33m\u001b[0m\u001b[1;33m\u001b[0m\u001b[0m\n\u001b[0m\u001b[0;32m    269\u001b[0m \u001b[1;33m\u001b[0m\u001b[0m\n\u001b[0;32m    270\u001b[0m     \u001b[0mrequired_framework\u001b[0m \u001b[1;33m=\u001b[0m \u001b[0m_get_required_interactive_framework\u001b[0m\u001b[1;33m(\u001b[0m\u001b[0mbackend_mod\u001b[0m\u001b[1;33m)\u001b[0m\u001b[1;33m\u001b[0m\u001b[1;33m\u001b[0m\u001b[0m\n",
      "\u001b[1;32m~\\anaconda3\\envs\\hager\\lib\\importlib\\__init__.py\u001b[0m in \u001b[0;36mimport_module\u001b[1;34m(name, package)\u001b[0m\n\u001b[0;32m    125\u001b[0m                 \u001b[1;32mbreak\u001b[0m\u001b[1;33m\u001b[0m\u001b[1;33m\u001b[0m\u001b[0m\n\u001b[0;32m    126\u001b[0m             \u001b[0mlevel\u001b[0m \u001b[1;33m+=\u001b[0m \u001b[1;36m1\u001b[0m\u001b[1;33m\u001b[0m\u001b[1;33m\u001b[0m\u001b[0m\n\u001b[1;32m--> 127\u001b[1;33m     \u001b[1;32mreturn\u001b[0m \u001b[0m_bootstrap\u001b[0m\u001b[1;33m.\u001b[0m\u001b[0m_gcd_import\u001b[0m\u001b[1;33m(\u001b[0m\u001b[0mname\u001b[0m\u001b[1;33m[\u001b[0m\u001b[0mlevel\u001b[0m\u001b[1;33m:\u001b[0m\u001b[1;33m]\u001b[0m\u001b[1;33m,\u001b[0m \u001b[0mpackage\u001b[0m\u001b[1;33m,\u001b[0m \u001b[0mlevel\u001b[0m\u001b[1;33m)\u001b[0m\u001b[1;33m\u001b[0m\u001b[1;33m\u001b[0m\u001b[0m\n\u001b[0m\u001b[0;32m    128\u001b[0m \u001b[1;33m\u001b[0m\u001b[0m\n\u001b[0;32m    129\u001b[0m \u001b[1;33m\u001b[0m\u001b[0m\n",
      "\u001b[1;32m~\\anaconda3\\envs\\hager\\lib\\importlib\\_bootstrap.py\u001b[0m in \u001b[0;36m_gcd_import\u001b[1;34m(name, package, level)\u001b[0m\n",
      "\u001b[1;32m~\\anaconda3\\envs\\hager\\lib\\importlib\\_bootstrap.py\u001b[0m in \u001b[0;36m_find_and_load\u001b[1;34m(name, import_)\u001b[0m\n",
      "\u001b[1;32m~\\anaconda3\\envs\\hager\\lib\\importlib\\_bootstrap.py\u001b[0m in \u001b[0;36m_find_and_load_unlocked\u001b[1;34m(name, import_)\u001b[0m\n",
      "\u001b[1;32m~\\anaconda3\\envs\\hager\\lib\\importlib\\_bootstrap.py\u001b[0m in \u001b[0;36m_find_spec\u001b[1;34m(name, path, target)\u001b[0m\n",
      "\u001b[1;32m~\\anaconda3\\envs\\hager\\lib\\importlib\\_bootstrap_external.py\u001b[0m in \u001b[0;36mfind_spec\u001b[1;34m(cls, fullname, path, target)\u001b[0m\n",
      "\u001b[1;32m~\\anaconda3\\envs\\hager\\lib\\importlib\\_bootstrap_external.py\u001b[0m in \u001b[0;36m_get_spec\u001b[1;34m(cls, fullname, path, target)\u001b[0m\n",
      "\u001b[1;32m~\\anaconda3\\envs\\hager\\lib\\importlib\\_bootstrap_external.py\u001b[0m in \u001b[0;36mfind_spec\u001b[1;34m(self, fullname, target)\u001b[0m\n",
      "\u001b[1;32m~\\anaconda3\\envs\\hager\\lib\\importlib\\_bootstrap_external.py\u001b[0m in \u001b[0;36m_path_isfile\u001b[1;34m(path)\u001b[0m\n",
      "\u001b[1;32m~\\anaconda3\\envs\\hager\\lib\\importlib\\_bootstrap_external.py\u001b[0m in \u001b[0;36m_path_is_mode_type\u001b[1;34m(path, mode)\u001b[0m\n",
      "\u001b[1;31mKeyboardInterrupt\u001b[0m: "
     ]
    }
   ],
   "source": [
    "# importing libraries\n",
    "import pandas as pd \n",
    "import numpy as np\n",
    "import seaborn as sns\n",
    "%matplotlib inline\n",
    "import matplotlib.pyplot as plt\n",
    "import joblib\n",
    "from sklearn.neighbors import KNeighborsClassifier\n",
    "from sklearn.linear_model import LogisticRegression\n",
    "from sklearn.naive_bayes import MultinomialNB\n",
    "from sklearn.naive_bayes import GaussianNB\n",
    "from sklearn.svm import SVC\n",
    "from sklearn.ensemble import RandomForestClassifier\n",
    "from sklearn.tree import DecisionTreeClassifier\n",
    "from sklearn.ensemble import RandomForestClassifier\n",
    "from sklearn import metrics\n",
    "from sklearn.model_selection import cross_val_predict\n",
    "from sklearn.model_selection import cross_val_score\n",
    "from sklearn.metrics import roc_curve\n",
    "from sklearn.metrics import roc_auc_score\n",
    "from sklearn.model_selection import cross_validate\n",
    "from sklearn.metrics import accuracy_score\n",
    "from sklearn.metrics import precision_score\n",
    "from sklearn.metrics import recall_score\n",
    "from sklearn.metrics import roc_auc_score\n",
    "from sklearn.metrics import f1_score\n",
    "from sklearn.model_selection import GridSearchCV, KFold\n",
    "from sklearn.model_selection import StratifiedKFold\n",
    "from sklearn.metrics import classification_report\n",
    "from sklearn.preprocessing import LabelEncoder \n",
    "from sklearn.feature_extraction.text import TfidfVectorizer"
   ]
  },
  {
   "cell_type": "code",
   "execution_count": null,
   "id": "OZF-XAiGSpBh",
   "metadata": {
    "colab": {
     "base_uri": "https://localhost:8080/"
    },
    "executionInfo": {
     "elapsed": 17226,
     "status": "ok",
     "timestamp": 1660143983403,
     "user": {
      "displayName": "hager saleh",
      "userId": "04961961339784377923"
     },
     "user_tz": -120
    },
    "id": "OZF-XAiGSpBh",
    "outputId": "d38366be-e881-4ae2-9030-ffd0941bfd92"
   },
   "outputs": [],
   "source": [
    "from google.colab import drive\n",
    "drive.mount('/content/drive')"
   ]
  },
  {
   "cell_type": "markdown",
   "id": "d9146550",
   "metadata": {
    "id": "d9146550"
   },
   "source": [
    "### loading the dataset"
   ]
  },
  {
   "cell_type": "code",
   "execution_count": null,
   "id": "6e78e180",
   "metadata": {
    "colab": {
     "base_uri": "https://localhost:8080/",
     "height": 206
    },
    "executionInfo": {
     "elapsed": 1194,
     "status": "ok",
     "timestamp": 1660143984592,
     "user": {
      "displayName": "hager saleh",
      "userId": "04961961339784377923"
     },
     "user_tz": -120
    },
    "id": "6e78e180",
    "outputId": "0c63cd32-c49f-479c-d15d-c1fc4e976145"
   },
   "outputs": [],
   "source": [
    "train_set=pd.read_csv('/content/drive/MyDrive/ArabicSentimentHager/paper1/TF-IDF/dataset2/train_datasetset2.csv',encoding='utf-8')\n",
    "test_set=pd.read_csv(\"/content/drive/MyDrive/ArabicSentimentHager/paper1/TF-IDF/dataset2/unseen_dataset2.csv\")\n",
    "train_set.head()"
   ]
  },
  {
   "cell_type": "code",
   "execution_count": null,
   "id": "5b427d28",
   "metadata": {
    "colab": {
     "base_uri": "https://localhost:8080/"
    },
    "executionInfo": {
     "elapsed": 307,
     "status": "ok",
     "timestamp": 1660144123876,
     "user": {
      "displayName": "hager saleh",
      "userId": "04961961339784377923"
     },
     "user_tz": -120
    },
    "id": "5b427d28",
    "outputId": "ed22e706-c103-42fc-abc7-d35fbc7238ee"
   },
   "outputs": [],
   "source": [
    "X_train=train_set.drop(columns =['label'], axis = 1)\n",
    "y_train=train_set['label']\n",
    "X_train.shape, y_train.shape"
   ]
  },
  {
   "cell_type": "code",
   "execution_count": null,
   "id": "bcee5be1",
   "metadata": {
    "colab": {
     "base_uri": "https://localhost:8080/"
    },
    "executionInfo": {
     "elapsed": 3,
     "status": "ok",
     "timestamp": 1660144125161,
     "user": {
      "displayName": "hager saleh",
      "userId": "04961961339784377923"
     },
     "user_tz": -120
    },
    "id": "bcee5be1",
    "outputId": "c70ab284-0545-4b11-f29c-51fa3af5dcc5"
   },
   "outputs": [],
   "source": [
    "y_test=test_set['label']\n",
    "X_test=test_set.drop(columns =['label'], axis = 1)\n",
    "X_test.shape, y_test.shape"
   ]
  },
  {
   "cell_type": "markdown",
   "id": "852506b6",
   "metadata": {
    "id": "852506b6"
   },
   "source": [
    "### LabelEncoder"
   ]
  },
  {
   "cell_type": "code",
   "execution_count": null,
   "id": "881111aa",
   "metadata": {
    "executionInfo": {
     "elapsed": 307,
     "status": "ok",
     "timestamp": 1660143989912,
     "user": {
      "displayName": "hager saleh",
      "userId": "04961961339784377923"
     },
     "user_tz": -120
    },
    "id": "881111aa"
   },
   "outputs": [],
   "source": [
    "encoder_y = LabelEncoder()\n",
    "y_train= encoder_y.fit_transform(y_train)\n",
    "y_test = encoder_y.transform(y_test)"
   ]
  },
  {
   "cell_type": "markdown",
   "id": "izXnBLCnS3Gm",
   "metadata": {
    "id": "izXnBLCnS3Gm"
   },
   "source": [
    "### TF-IDF feature extraction method"
   ]
  },
  {
   "cell_type": "code",
   "execution_count": null,
   "id": "tUueVv6bSxS2",
   "metadata": {
    "executionInfo": {
     "elapsed": 311,
     "status": "ok",
     "timestamp": 1660144132515,
     "user": {
      "displayName": "hager saleh",
      "userId": "04961961339784377923"
     },
     "user_tz": -120
    },
    "id": "tUueVv6bSxS2"
   },
   "outputs": [],
   "source": [
    "tfidf_vect = TfidfVectorizer(max_features=5000 , ngram_range=(1,1))\n",
    "tfidf_train = tfidf_vect.fit_transform(X_train['text'])\n",
    "tfidf_test = tfidf_vect.transform(X_test['text'])"
   ]
  },
  {
   "cell_type": "markdown",
   "id": "2f45f99d",
   "metadata": {
    "id": "2f45f99d"
   },
   "source": [
    "### Finding best model and hyper parameters"
   ]
  },
  {
   "cell_type": "code",
   "execution_count": null,
   "id": "96a6fd1e",
   "metadata": {
    "executionInfo": {
     "elapsed": 3,
     "status": "ok",
     "timestamp": 1660144136415,
     "user": {
      "displayName": "hager saleh",
      "userId": "04961961339784377923"
     },
     "user_tz": -120
    },
    "id": "96a6fd1e"
   },
   "outputs": [],
   "source": [
    "model_params = {\n",
    "    \n",
    "    'RF': {\n",
    "        'model': RandomForestClassifier(),\n",
    "        'params' :   { 'max_depth': [100,200],\n",
    "        'criterion': ['gini', 'entropy'],\n",
    "        }\n",
    "    },\n",
    "    'LR' : {\n",
    "        'model': LogisticRegression(solver='sag'),\n",
    "        'params': { \"C\":np.logspace(-3,3,7), \"penalty\":['none', 'l1', 'l2', 'elasticnet'],\n",
    "              \"solver\" : ['newton-cg','lbfgs','liblinear','sag','saga'],\n",
    "    'class_weight':['balanced', None]\n",
    "             }}\n",
    "    ,\n",
    "    'DT': {\n",
    "        'model': DecisionTreeClassifier(),\n",
    "        'params': {'max_depth':[100,200],\n",
    "                \n",
    "             'max_features': [1, 2, 3, 4,5,6,7,8,9,10],\n",
    "             'criterion': ['gini', 'entropy'],\n",
    "             \n",
    "        }\n",
    "    }  \n",
    "    ,\n",
    "    'NB': {\n",
    "        'model':  MultinomialNB(),\n",
    "        'params': {'alpha': (1, 0.1, 0.01, 0.001, 0.0001, 0.00001)  }\n",
    "    } ,\n",
    "     'KNN': {\n",
    "     'model': KNeighborsClassifier(),\n",
    "    'params':  {'n_neighbors':[50,60,70,100],'weights':['uniform', 'distance'],\n",
    "          'algorithm':['auto', 'ball_tree','kd_tree','brute']}\n",
    "    }\n",
    "\n",
    "\n",
    "}"
   ]
  },
  {
   "cell_type": "code",
   "execution_count": null,
   "id": "21465629",
   "metadata": {
    "colab": {
     "base_uri": "https://localhost:8080/"
    },
    "executionInfo": {
     "elapsed": 453525,
     "status": "ok",
     "timestamp": 1660144592896,
     "user": {
      "displayName": "hager saleh",
      "userId": "04961961339784377923"
     },
     "user_tz": -120
    },
    "id": "21465629",
    "outputId": "dd9ab312-1580-405c-ab13-74a1678ae44c",
    "scrolled": true
   },
   "outputs": [],
   "source": [
    "scores = []\n",
    "model={}\n",
    "for model_name, mp in model_params.items():\n",
    "    clf =  GridSearchCV(mp['model'], mp['params'], cv=10, scoring = 'accuracy',return_train_score=False)\n",
    "    clf.fit(tfidf_train, y_train)\n",
    "    scores.append({\n",
    "        'model': model_name,\n",
    "        'best_score': clf.best_score_,\n",
    "        'best_params': clf.best_params_\n",
    "    })\n",
    "    best_grid=clf.fit(tfidf_train, y_train)\n",
    "    model[model_name]=best_grid.best_estimator_\n",
    "df = pd.DataFrame(scores,columns=['model','best_params'])\n"
   ]
  },
  {
   "cell_type": "markdown",
   "id": "6af502c9",
   "metadata": {
    "id": "6af502c9"
   },
   "source": [
    "### Print best values of parameters for each model"
   ]
  },
  {
   "cell_type": "code",
   "execution_count": null,
   "id": "azEXBNJIA6dQ",
   "metadata": {
    "colab": {
     "base_uri": "https://localhost:8080/",
     "height": 206
    },
    "executionInfo": {
     "elapsed": 22,
     "status": "ok",
     "timestamp": 1660144592897,
     "user": {
      "displayName": "hager saleh",
      "userId": "04961961339784377923"
     },
     "user_tz": -120
    },
    "id": "azEXBNJIA6dQ",
    "outputId": "747e68a0-225e-4419-9fbe-11ac3af5bf71"
   },
   "outputs": [],
   "source": [
    "df"
   ]
  },
  {
   "cell_type": "markdown",
   "id": "d2ea6f9a",
   "metadata": {
    "id": "d2ea6f9a"
   },
   "source": [
    "### Geting cross-validation result for cross-validation and testing result for unseen set"
   ]
  },
  {
   "cell_type": "code",
   "execution_count": null,
   "id": "cf7e0687",
   "metadata": {
    "executionInfo": {
     "elapsed": 18,
     "status": "ok",
     "timestamp": 1660144592897,
     "user": {
      "displayName": "hager saleh",
      "userId": "04961961339784377923"
     },
     "user_tz": -120
    },
    "id": "cf7e0687"
   },
   "outputs": [],
   "source": [
    "scoring=['accuracy','roc_auc','recall','f1','precision']"
   ]
  },
  {
   "cell_type": "code",
   "execution_count": null,
   "id": "486e91e0",
   "metadata": {
    "executionInfo": {
     "elapsed": 18,
     "status": "ok",
     "timestamp": 1660144592898,
     "user": {
      "displayName": "hager saleh",
      "userId": "04961961339784377923"
     },
     "user_tz": -120
    },
    "id": "486e91e0"
   },
   "outputs": [],
   "source": [
    "best_model={'RF':model['RF'],'LR':model['LR'],'DT':model['DT'],\n",
    "            'NB':model['NB'],'KNN':model['KNN']}"
   ]
  },
  {
   "cell_type": "code",
   "execution_count": null,
   "id": "d0d9681c",
   "metadata": {
    "colab": {
     "base_uri": "https://localhost:8080/"
    },
    "executionInfo": {
     "elapsed": 20011,
     "status": "ok",
     "timestamp": 1660144670262,
     "user": {
      "displayName": "hager saleh",
      "userId": "04961961339784377923"
     },
     "user_tz": -120
    },
    "id": "d0d9681c",
    "outputId": "9819f08c-3ff3-4cb3-ff63-f3063b02a51a"
   },
   "outputs": [],
   "source": [
    "finaltrain = pd.DataFrame([])\n",
    "ReultofTest=pd.DataFrame([])\n",
    "for model_name, i in best_model.items():   \n",
    "    Model=i\n",
    "    AccuracyTrain=[]\n",
    "    PrecisionTrain=[]\n",
    "    RecallTrain=[]\n",
    "    F1Train=[]\n",
    "\n",
    "    AccuracyTest=[]\n",
    "    PrecisionTest=[]\n",
    "    RecallTest=[]\n",
    "    F1Test=[]\n",
    "\n",
    "    for i in range(0,1):\n",
    "        if i==0:\n",
    "            r=70\n",
    "        elif i== 1:\n",
    "            r=80\n",
    "   \n",
    "\n",
    "        SFold = StratifiedKFold(n_splits=10,  shuffle=True,random_state=r)\n",
    "        Train_Score = cross_validate(Model, tfidf_train, y_train, scoring=scoring,  cv=SFold)\n",
    "        AccuracyTrain.append(round(100*np.mean(Train_Score['test_accuracy']), 2))\n",
    "        PrecisionTrain.append(round(100*np.mean(Train_Score['test_precision']), 2))\n",
    "        RecallTrain.append(round(100*np.mean(Train_Score['test_recall']), 2))\n",
    "        F1Train.append(round(100*np.mean(Train_Score['test_f1']), 2))\n",
    "        \n",
    "        y_pred = cross_val_predict(Model, tfidf_test, y_test, cv=SFold )\n",
    "        Accurcy_Test= accuracy_score(y_test,y_pred)\n",
    "        Precision_Test=precision_score(y_test, y_pred, average='weighted')\n",
    "        Recall_Test=recall_score(y_test, y_pred, average='weighted')\n",
    "        F1_Test=f1_score(y_test, y_pred, average='weighted') \n",
    "        RocTest=roc_auc_score(y_test, y_pred, average='weighted')\n",
    "        AccuracyTest.append(round(100*Accurcy_Test, 2))\n",
    "        PrecisionTest.append(round(100*Precision_Test, 2))\n",
    "        RecallTest.append(round(100*Recall_Test, 2))\n",
    "        F1Test.append(round(100*F1_Test, 2)) \n",
    " \n",
    "        finaltrain = finaltrain.append({ 'model':model_name,\n",
    "                                        'AccuracyTrain' : round(np.mean(AccuracyTrain),2),\n",
    "                                        'PrecisionTrain':round(np.mean(PrecisionTrain),2),\n",
    "                                        'RecallTrain':round(np.mean(RecallTrain),2),  \n",
    "                                        'F1Train':round(np.mean(F1Train),2),\n",
    "                                        \n",
    "                                       } , ignore_index=True)\n",
    "        finaltrain.reindex(['model','AccuracyTrain','PrecisionTrain','RecallTrain','F1Train'], axis=1)\n",
    "        \n",
    "       \n",
    "        ReultofTest=ReultofTest.append({'model':model_name,\n",
    "                                        'AccuracyTest' : round(np.mean(AccuracyTest),2),\n",
    "                                        'PrecisionTest':round(np.mean(PrecisionTest),2),\n",
    "                                        'RecallTest' : round(np.mean(RecallTest),2),'F1Test':round(np.mean(F1Test),2),\n",
    "                                       \n",
    "                                       }, ignore_index=True)\n",
    "        ReultofTest.reindex(['model','AccuracyTest','PrecisionTest','RecallTest','F1Test'],axis=1)\n",
    "       "
   ]
  },
  {
   "cell_type": "markdown",
   "id": "ae2f8e6a",
   "metadata": {
    "id": "ae2f8e6a"
   },
   "source": [
    "### Print avarage of training set and testing set "
   ]
  },
  {
   "cell_type": "code",
   "execution_count": null,
   "id": "d6d4babb",
   "metadata": {
    "colab": {
     "base_uri": "https://localhost:8080/"
    },
    "executionInfo": {
     "elapsed": 22,
     "status": "ok",
     "timestamp": 1660144671505,
     "user": {
      "displayName": "hager saleh",
      "userId": "04961961339784377923"
     },
     "user_tz": -120
    },
    "id": "d6d4babb",
    "outputId": "24c0fb9d-ee8e-49cb-dbf5-400400c0fb70",
    "scrolled": true
   },
   "outputs": [],
   "source": [
    "with pd.option_context('expand_frame_repr', False):\n",
    "    print (finaltrain)\n"
   ]
  },
  {
   "cell_type": "code",
   "execution_count": null,
   "id": "9f061b83",
   "metadata": {
    "colab": {
     "base_uri": "https://localhost:8080/"
    },
    "executionInfo": {
     "elapsed": 19,
     "status": "ok",
     "timestamp": 1660144671506,
     "user": {
      "displayName": "hager saleh",
      "userId": "04961961339784377923"
     },
     "user_tz": -120
    },
    "id": "9f061b83",
    "outputId": "87e8730a-b403-41d0-bed1-9f952d7a83f3"
   },
   "outputs": [],
   "source": [
    "with pd.option_context('expand_frame_repr', False):\n",
    "    print (ReultofTest)\n"
   ]
  },
  {
   "cell_type": "markdown",
   "id": "77794d66",
   "metadata": {
    "id": "77794d66"
   },
   "source": [
    "### Print ROC curve of models"
   ]
  },
  {
   "cell_type": "code",
   "execution_count": null,
   "id": "iRhEUriFBdwx",
   "metadata": {
    "colab": {
     "base_uri": "https://localhost:8080/"
    },
    "executionInfo": {
     "elapsed": 6516,
     "status": "ok",
     "timestamp": 1660144696352,
     "user": {
      "displayName": "hager saleh",
      "userId": "04961961339784377923"
     },
     "user_tz": -120
    },
    "id": "iRhEUriFBdwx",
    "outputId": "2139f658-9871-48d0-8574-3e0f40b9feb8"
   },
   "outputs": [],
   "source": [
    "\n",
    "result_table = pd.DataFrame(columns=['classifiers', 'fpr','tpr','auc'])\n",
    "\n",
    "# Train the models and record the results\n",
    "for k,v in best_model.items():\n",
    "   \n",
    "    #yproba = cls.predict(tfidf_test)\n",
    "    y_pred = cross_val_predict(v, tfidf_test, y_test, cv=SFold )\n",
    "    fpr, tpr, _ = roc_curve(y_test,  y_pred)\n",
    "    auc = round(roc_auc_score(y_test, y_pred),5)*100\n",
    "    \n",
    "    result_table = result_table.append({'classifiers':k,\n",
    "                                        'fpr':fpr, \n",
    "                                        'tpr':tpr, \n",
    "                                        'auc':auc, \n",
    "                                        'y_pred': y_pred}, ignore_index=True)\n",
    "\n",
    "# Set name of the classifiers as index labels\n",
    "result_table.set_index('classifiers', inplace=True)\n"
   ]
  },
  {
   "cell_type": "code",
   "execution_count": null,
   "id": "8d027fd0",
   "metadata": {
    "colab": {
     "base_uri": "https://localhost:8080/",
     "height": 520
    },
    "executionInfo": {
     "elapsed": 12,
     "status": "ok",
     "timestamp": 1660144696353,
     "user": {
      "displayName": "hager saleh",
      "userId": "04961961339784377923"
     },
     "user_tz": -120
    },
    "id": "8d027fd0",
    "outputId": "8bc71acf-7981-4bb1-8214-6669ff2025fd"
   },
   "outputs": [],
   "source": [
    "fig = plt.figure(figsize=(10,8))\n",
    "\n",
    "for i in result_table.index:\n",
    "    plt.plot(result_table.loc[i]['fpr'], \n",
    "             result_table.loc[i]['tpr'], \n",
    "             label=\"{}, AUC={:.3f}\".format(i, result_table.loc[i]['auc']))\n",
    "    \n",
    "plt.plot([0,1], [0,1], color='orange', linestyle='--')\n",
    "\n",
    "plt.xticks(np.arange(0.0, 1.1, step=0.1))\n",
    "plt.xlabel(\"Flase Positive Rate\", fontsize=15)\n",
    "\n",
    "plt.yticks(np.arange(0.0, 1.1, step=0.1))\n",
    "plt.ylabel(\"True Positive Rate\", fontsize=15)\n",
    "\n",
    "plt.title('ROC Curve Analysis', fontweight='bold', fontsize=15)\n",
    "plt.legend(prop={'size':13}, loc='lower right')\n",
    "\n",
    "plt.show()"
   ]
  }
 ],
 "metadata": {
  "accelerator": "GPU",
  "colab": {
   "collapsed_sections": [],
   "name": "ML Models with full features.ipynb",
   "provenance": []
  },
  "gpuClass": "standard",
  "kernelspec": {
   "display_name": "Python 3 (ipykernel)",
   "language": "python",
   "name": "python3"
  },
  "language_info": {
   "codemirror_mode": {
    "name": "ipython",
    "version": 3
   },
   "file_extension": ".py",
   "mimetype": "text/x-python",
   "name": "python",
   "nbconvert_exporter": "python",
   "pygments_lexer": "ipython3",
   "version": "3.9.7"
  }
 },
 "nbformat": 4,
 "nbformat_minor": 5
}
